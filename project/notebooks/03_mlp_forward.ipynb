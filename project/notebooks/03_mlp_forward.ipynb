{
 "cells": [
  {
   "cell_type": "code",
   "execution_count": 3,
   "metadata": {
    "vscode": {
     "languageId": "plaintext"
    }
   },
   "outputs": [],
   "source": [
    "import numpy as np\n",
    "\n",
    "# Ativações\n",
    "def sigmoid(x):\n",
    "    return 1 / (1 + np.exp(-x))\n",
    "\n",
    "def relu(x):\n",
    "    return np.maximum(0, x)\n",
    "\n",
    "# Camada densa\n",
    "class CamadaDensa:\n",
    "    def __init__(self, n_inputs, n_neuronios, ativacao=\"sigmoid\"):\n",
    "        self.pesos = np.random.randn(n_neuronios, n_inputs)\n",
    "        self.bias = np.random.randn(n_neuronios)\n",
    "        self.ativacao = ativacao\n",
    "    \n",
    "    def forward(self, x):\n",
    "        z = np.dot(self.pesos, x) + self.bias\n",
    "        if self.ativacao == \"sigmoid\":\n",
    "            return sigmoid(z)\n",
    "        elif self.ativacao == \"relu\":\n",
    "            return relu(z)\n",
    "        return z  # linear\n",
    "\n",
    "# Rede neural simples (2 camadas)\n",
    "class MLP:\n",
    "    def __init__(self, n_inputs, n_hidden, n_outputs):\n",
    "        self.camada1 = CamadaDensa(n_inputs, n_hidden, ativacao=\"relu\")\n",
    "        self.camada2 = CamadaDensa(n_hidden, n_outputs, ativacao=\"sigmoid\")\n",
    "    \n",
    "    def forward(self, x):\n",
    "        out1 = self.camada1.forward(x)   # camada oculta\n",
    "        out2 = self.camada2.forward(out1)  # camada de saída\n",
    "        return out2\n"
   ]
  },
  {
   "cell_type": "code",
   "execution_count": 4,
   "metadata": {
    "vscode": {
     "languageId": "plaintext"
    }
   },
   "outputs": [
    {
     "name": "stdout",
     "output_type": "stream",
     "text": [
      "Saída da rede: [0.2683094 0.2401541]\n",
      "Formato: (2,)\n"
     ]
    }
   ],
   "source": [
    "# Exemplo: 3 entradas → 5 neurônios ocultos → 2 saídas\n",
    "rede = MLP(n_inputs=3, n_hidden=5, n_outputs=2)\n",
    "\n",
    "x = np.array([0.5, -1.2, 3.3])\n",
    "saida = rede.forward(x)\n",
    "\n",
    "print(\"Saída da rede:\", saida)\n",
    "print(\"Formato:\", saida.shape)  # deve ser (2,)\n"
   ]
  },
  {
   "cell_type": "code",
   "execution_count": 5,
   "metadata": {},
   "outputs": [],
   "source": [
    "# Função de custo (MSE)\n",
    "def mse(y_pred, y_true):\n",
    "    return np.mean((y_pred - y_true) ** 2)"
   ]
  },
  {
   "cell_type": "code",
   "execution_count": 6,
   "metadata": {},
   "outputs": [
    {
     "name": "stdout",
     "output_type": "stream",
     "text": [
      "Saída da rede: [0.2683094 0.2401541]\n",
      "Esperado: [1 0]\n",
      "Erro (MSE): 0.29652256404770333\n"
     ]
    }
   ],
   "source": [
    "# Saída da rede\n",
    "y_pred = rede.forward(x)\n",
    "\n",
    "# Valor esperado (exemplo: queremos [1, 0])\n",
    "y_true = np.array([1, 0])\n",
    "\n",
    "# Cálculo do erro\n",
    "erro = mse(y_pred, y_true)\n",
    "\n",
    "print(\"Saída da rede:\", y_pred)\n",
    "print(\"Esperado:\", y_true)\n",
    "print(\"Erro (MSE):\", erro)\n"
   ]
  }
 ],
 "metadata": {
  "kernelspec": {
   "display_name": "Python 3 (ipykernel)",
   "language": "python",
   "name": "python3"
  },
  "language_info": {
   "codemirror_mode": {
    "name": "ipython",
    "version": 3
   },
   "file_extension": ".py",
   "mimetype": "text/x-python",
   "name": "python",
   "nbconvert_exporter": "python",
   "pygments_lexer": "ipython3",
   "version": "3.12.3"
  }
 },
 "nbformat": 4,
 "nbformat_minor": 4
}
