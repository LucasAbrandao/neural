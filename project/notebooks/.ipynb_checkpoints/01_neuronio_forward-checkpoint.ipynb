{
 "cells": [
  {
   "cell_type": "markdown",
   "metadata": {},
   "source": [
    "# Neurônio artificial - Forward e Funções de Ativação"
   ]
  },
  {
   "cell_type": "code",
   "execution_count": null,
   "metadata": {
    "vscode": {
     "languageId": "plaintext"
    }
   },
   "outputs": [],
   "source": [
    "import numpy as np\n",
    "import matplotlib.pyplot as plt\n",
    "\n",
    "def sigmoid(x):\n",
    "    return 1 / (1 + np.exp(-x))\n",
    "\n",
    "def relu(x):\n",
    "    return np.maximum(0, x)"
   ]
  },
  {
   "cell_type": "code",
   "execution_count": null,
   "metadata": {
    "vscode": {
     "languageId": "plaintext"
    }
   },
   "outputs": [],
   "source": [
    "class Neuronio:\n",
    "    def __init__(self, n_inputs):\n",
    "        self.pesos = np.random.randn(n_inputs)\n",
    "        self.bias = np.random.randn()\n",
    "    \n",
    "    def forward(self, x, ativacao=\"sigmoid\"):\n",
    "        z = np.dot(self.pesos, x) + self.bias\n",
    "        if ativacao == \"sigmoid\":\n",
    "            return sigmoid(z)\n",
    "        elif ativacao == \"relu\":\n",
    "            return relu(z)\n",
    "        return z  # linear\n",
    "\n",
    "# Teste\n",
    "x = np.array([0.5, -1.2, 3.3])\n",
    "neur = Neuronio(n_inputs=3)\n",
    "print(\"Saída sigmoid:\", neur.forward(x, \"sigmoid\"))\n",
    "print(\"Saída ReLU:\", neur.forward(x, \"relu\"))"
   ]
  },
  {
   "cell_type": "code",
   "execution_count": null,
   "metadata": {
    "vscode": {
     "languageId": "plaintext"
    }
   },
   "outputs": [],
   "source": [
    "x = np.linspace(-6, 6, 200)\n",
    "\n",
    "plt.figure(figsize=(10,4))\n",
    "\n",
    "plt.subplot(1,2,1)\n",
    "plt.plot(x, sigmoid(x))\n",
    "plt.title(\"Sigmoid\")\n",
    "plt.grid(True)\n",
    "\n",
    "plt.subplot(1,2,2)\n",
    "plt.plot(x, relu(x))\n",
    "plt.title(\"ReLU\")\n",
    "plt.grid(True)\n",
    "\n",
    "plt.show()\n"
   ]
  }
 ],
 "metadata": {
  "language_info": {
   "name": "python"
  }
 },
 "nbformat": 4,
 "nbformat_minor": 2
}
