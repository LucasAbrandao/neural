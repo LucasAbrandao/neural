{
 "cells": [
  {
   "cell_type": "code",
   "execution_count": null,
   "id": "37e7537b-c3f2-4a88-afd5-04d393b3242d",
   "metadata": {},
   "outputs": [],
   "source": [
    "import numpy as np\n",
    "\n",
    "def sigmoid(x):\n",
    "    return 1 / (1 + np.exp(-x))\n",
    "\n",
    "def relu(x):\n",
    "    return np.maximum(0, x)\n",
    "\n",
    "class CamadaDensa:\n",
    "    def __init__(self, n_inputs, n_neuronios, ativacao=\"sigmoid\"):\n",
    "        # pesos: matriz [n_neuronios x n_inputs]\n",
    "        self.pesos = np.random.randn(n_neuronios, n_inputs)\n",
    "        self.bias = np.random.randn(n_neuronios)\n",
    "        self.ativacao = ativacao\n",
    "    \n",
    "    def forward(self, x):\n",
    "        # z = W.x + b   (produto matricial)\n",
    "        z = np.dot(self.pesos, x) + self.bias\n",
    "        \n",
    "        if self.ativacao == \"sigmoid\":\n",
    "            return sigmoid(z)\n",
    "        elif self.ativacao == \"relu\":\n",
    "            return relu(z)\n",
    "        return z  # linear\n"
   ]
  },
  {
   "cell_type": "code",
   "execution_count": null,
   "id": "1de2b8e4",
   "metadata": {},
   "outputs": [],
   "source": [
    "# Entrada: vetor de 3 valores\n",
    "x = np.array([0.5, -1.2, 3.3])\n",
    "\n",
    "# Camada com 4 neurônios, cada um com 3 entradas\n",
    "camada = CamadaDensa(n_inputs=3, n_neuronios=4, ativacao=\"sigmoid\")\n",
    "\n",
    "saida = camada.forward(x)\n",
    "print(\"Saída da camada:\", saida)\n",
    "print(\"Formato:\", saida.shape)  # deve ser (4,)\n"
   ]
  }
 ],
 "metadata": {
  "kernelspec": {
   "display_name": "Python 3 (ipykernel)",
   "language": "python",
   "name": "python3"
  },
  "language_info": {
   "codemirror_mode": {
    "name": "ipython",
    "version": 3
   },
   "file_extension": ".py",
   "mimetype": "text/x-python",
   "name": "python",
   "nbconvert_exporter": "python",
   "pygments_lexer": "ipython3",
   "version": "3.12.3"
  }
 },
 "nbformat": 4,
 "nbformat_minor": 5
}
